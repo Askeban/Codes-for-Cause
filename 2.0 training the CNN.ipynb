{
 "cells": [
  {
   "cell_type": "code",
   "execution_count": 1,
   "metadata": {},
   "outputs": [],
   "source": [
    "import numpy as np\n",
    "\n",
    "data=np.load('data.npy')\n",
    "target=np.load('target.npy')\n",
    "\n",
    "#loading the save numpy arrays in the previous code"
   ]
  },
  {
   "cell_type": "code",
   "execution_count": 2,
   "metadata": {},
   "outputs": [
    {
     "name": "stderr",
     "output_type": "stream",
     "text": [
      "Using TensorFlow backend.\n"
     ]
    }
   ],
   "source": [
    "from keras.models import Sequential\n",
    "from keras.layers import Dense,Activation,Flatten,Dropout\n",
    "from keras.layers import Conv2D,MaxPooling2D\n",
    "from keras.callbacks import ModelCheckpoint\n",
    "\n",
    "model=Sequential()\n",
    "\n",
    "model.add(Conv2D(200,(3,3),input_shape=data.shape[1:]))\n",
    "model.add(Activation('relu'))\n",
    "model.add(MaxPooling2D(pool_size=(2,2)))\n",
    "#The first CNN layer followed by Relu and MaxPooling layers\n",
    "\n",
    "model.add(Conv2D(100,(3,3)))\n",
    "model.add(Activation('relu'))\n",
    "model.add(MaxPooling2D(pool_size=(2,2)))\n",
    "#The second convolution layer followed by Relu and MaxPooling layers\n",
    "\n",
    "model.add(Flatten())\n",
    "model.add(Dropout(0.5))\n",
    "#Flatten layer to stack the output convolutions from second convolution layer\n",
    "model.add(Dense(50,activation='relu'))\n",
    "#Dense layer of 64 neurons\n",
    "model.add(Dense(2,activation='softmax'))\n",
    "#The Final layer with two outputs for two categories\n",
    "\n",
    "model.compile(loss='categorical_crossentropy',optimizer='adam',metrics=['accuracy'])"
   ]
  },
  {
   "cell_type": "code",
   "execution_count": 3,
   "metadata": {},
   "outputs": [],
   "source": [
    "from sklearn.model_selection import train_test_split\n",
    "\n",
    "train_data,test_data,train_target,test_target=train_test_split(data,target,test_size=0.1)"
   ]
  },
  {
   "cell_type": "code",
   "execution_count": 4,
   "metadata": {},
   "outputs": [
    {
     "name": "stdout",
     "output_type": "stream",
     "text": [
      "Train on 990 samples, validate on 248 samples\n",
      "Epoch 1/20\n",
      "990/990 [==============================] - 31s 32ms/step - loss: 0.7006 - accuracy: 0.5475 - val_loss: 0.6134 - val_accuracy: 0.6089\n",
      "Epoch 2/20\n",
      "990/990 [==============================] - 33s 33ms/step - loss: 0.4571 - accuracy: 0.8000 - val_loss: 0.4261 - val_accuracy: 0.7984\n",
      "Epoch 3/20\n",
      "990/990 [==============================] - 33s 33ms/step - loss: 0.3051 - accuracy: 0.8646 - val_loss: 0.3272 - val_accuracy: 0.8831\n",
      "Epoch 4/20\n",
      "990/990 [==============================] - 33s 33ms/step - loss: 0.1768 - accuracy: 0.9364 - val_loss: 0.2889 - val_accuracy: 0.8911\n",
      "Epoch 5/20\n",
      "990/990 [==============================] - 34s 34ms/step - loss: 0.1503 - accuracy: 0.9455 - val_loss: 0.4458 - val_accuracy: 0.8347\n",
      "Epoch 6/20\n",
      "990/990 [==============================] - 33s 33ms/step - loss: 0.1332 - accuracy: 0.9525 - val_loss: 0.2416 - val_accuracy: 0.9274\n",
      "Epoch 7/20\n",
      "990/990 [==============================] - 33s 33ms/step - loss: 0.0903 - accuracy: 0.9687 - val_loss: 0.2316 - val_accuracy: 0.9315\n",
      "Epoch 8/20\n",
      "990/990 [==============================] - 33s 33ms/step - loss: 0.0695 - accuracy: 0.9768 - val_loss: 0.2375 - val_accuracy: 0.9234\n",
      "Epoch 9/20\n",
      "990/990 [==============================] - 33s 33ms/step - loss: 0.0580 - accuracy: 0.9828 - val_loss: 0.2384 - val_accuracy: 0.9355\n",
      "Epoch 10/20\n",
      "990/990 [==============================] - 33s 33ms/step - loss: 0.0633 - accuracy: 0.9707 - val_loss: 0.2839 - val_accuracy: 0.9032\n",
      "Epoch 11/20\n",
      "990/990 [==============================] - 33s 34ms/step - loss: 0.0565 - accuracy: 0.9838 - val_loss: 0.2210 - val_accuracy: 0.9435\n",
      "Epoch 12/20\n",
      "990/990 [==============================] - 32s 33ms/step - loss: 0.0384 - accuracy: 0.9869 - val_loss: 0.2444 - val_accuracy: 0.9435\n",
      "Epoch 13/20\n",
      "990/990 [==============================] - 33s 33ms/step - loss: 0.0475 - accuracy: 0.9808 - val_loss: 0.2342 - val_accuracy: 0.9315\n",
      "Epoch 14/20\n",
      "990/990 [==============================] - 33s 34ms/step - loss: 0.0533 - accuracy: 0.9838 - val_loss: 0.2502 - val_accuracy: 0.9274\n",
      "Epoch 15/20\n",
      "990/990 [==============================] - 34s 34ms/step - loss: 0.0379 - accuracy: 0.9909 - val_loss: 0.2733 - val_accuracy: 0.9315\n",
      "Epoch 16/20\n",
      "990/990 [==============================] - 33s 33ms/step - loss: 0.0311 - accuracy: 0.9889 - val_loss: 0.2898 - val_accuracy: 0.9113\n",
      "Epoch 17/20\n",
      "990/990 [==============================] - 33s 33ms/step - loss: 0.0202 - accuracy: 0.9949 - val_loss: 0.2230 - val_accuracy: 0.9516\n",
      "Epoch 18/20\n",
      "990/990 [==============================] - 33s 34ms/step - loss: 0.0139 - accuracy: 0.9929 - val_loss: 0.2528 - val_accuracy: 0.9355\n",
      "Epoch 19/20\n",
      "990/990 [==============================] - 33s 33ms/step - loss: 0.0210 - accuracy: 0.9919 - val_loss: 0.2717 - val_accuracy: 0.9516\n",
      "Epoch 20/20\n",
      "990/990 [==============================] - 33s 34ms/step - loss: 0.0329 - accuracy: 0.9879 - val_loss: 0.2328 - val_accuracy: 0.9435\n"
     ]
    }
   ],
   "source": [
    "checkpoint = ModelCheckpoint('model-{epoch:03d}.model',monitor='val_loss',verbose=0,save_best_only=True,mode='auto')\n",
    "history=model.fit(train_data,train_target,epochs=20,callbacks=[checkpoint],validation_split=0.2)"
   ]
  },
  {
   "cell_type": "code",
   "execution_count": 5,
   "metadata": {},
   "outputs": [],
   "source": [
    "from matplotlib import pyplot as plt"
   ]
  },
  {
   "cell_type": "code",
   "execution_count": 6,
   "metadata": {},
   "outputs": [
    {
     "data": {
      "image/png": "[encoded data removed]",
      "text/plain": [
       "<Figure size 432x288 with 1 Axes>"
      ]
     },
     "metadata": {
      "needs_background": "light"
     },
     "output_type": "display_data"
    }
   ],
   "source": [
    "plt.plot(history.history['loss'],'r',label='training loss')\n",
    "plt.plot(history.history['val_loss'],label='validation loss')\n",
    "plt.xlabel('# epochs')\n",
    "plt.ylabel('loss')\n",
    "plt.legend()\n",
    "plt.show()"
   ]
  },
  {
   "cell_type": "code",
   "execution_count": 7,
   "metadata": {},
   "outputs": [
    {
     "name": "stdout",
     "output_type": "stream",
     "text": [
      "138/138 [==============================] - 1s 7ms/step\n",
      "[0.27161680154191953, 0.9347826242446899]\n"
     ]
    }
   ],
   "source": [
    "print(model.evaluate(test_data,test_target))"
   ]
  },
  {
   "cell_type": "code",
   "execution_count": 8,
   "metadata": {},
   "outputs": [],
   "source": [
    "model.save('mask_reco.h5')"
   ]
  },
  {
   "cell_type": "code",
   "execution_count": null,
   "metadata": {},
   "outputs": [],
   "source": []
  }
 ],
 "metadata": {
  "kernelspec": {
   "display_name": "Python 3",
   "language": "python",
   "name": "python3"
  },
  "language_info": {
   "codemirror_mode": {
    "name": "ipython",
    "version": 3
   },
   "file_extension": ".py",
   "mimetype": "text/x-python",
   "name": "python",
   "nbconvert_exporter": "python",
   "pygments_lexer": "ipython3",
   "version": "3.7.9"
  }
 },
 "nbformat": 4,
 "nbformat_minor": 2
}
